{
 "cells": [
  {
   "cell_type": "markdown",
   "metadata": {},
   "source": [
    "This notebook contains notes about important machine learning concepts including statistics, probability, and modeling."
   ]
  },
  {
   "cell_type": "code",
   "execution_count": null,
   "metadata": {},
   "outputs": [],
   "source": []
  },
  {
   "cell_type": "markdown",
   "metadata": {},
   "source": [
    "The null hypothesis is essentially the \"devil's advocate\" position. That is, it assumes that whatever you are trying to prove did not happen (hint: it usually states that something equals zero).\n",
    "\n",
    "Recall (sensitivity) = TPR, Precision (how many selected items are relevant) = `TP/(TP+FP)`\n",
    "\n",
    "F1 = `2*precision*recall/(precision+recall)` = `2/(1/recall+1/precision)`\n",
    "\n",
    "Specificity = TNR\n",
    "\n",
    "Type I error = FPR, Type II error = FNR\n",
    "\n",
    "Statistical power is the likelihood that a study will detect an effect when there is an effect there to be detected. If statistical power is high, the probability of making a Type II error, or concluding there is no effect when, in fact, there is one, goes down.\n",
    "\n",
    "MAE is less sensitive to outliers, but is not differentiable.\n",
    "\n",
    "MSE reflects both bias and variance for predictor = `Var(model)+Var(noise)+Bias(model)^2`\n",
    "\n",
    "R squared (coefficient of determination) = `1-(error from linear regression model/error from simple average model)`"
   ]
  },
  {
   "cell_type": "code",
   "execution_count": null,
   "metadata": {},
   "outputs": [],
   "source": []
  },
  {
   "cell_type": "markdown",
   "metadata": {},
   "source": [
    "References:\n",
    "* https://statistics.laerd.com/statistical-guides/hypothesis-testing-3.php\n",
    "* https://towardsdatascience.com/mse-and-bias-variance-decomposition-77449dd2ff55\n",
    "* https://medium.com/acing-ai/how-to-evaluate-regression-models-d183b4f5853d"
   ]
  },
  {
   "cell_type": "code",
   "execution_count": null,
   "metadata": {},
   "outputs": [],
   "source": []
  }
 ],
 "metadata": {
  "kernelspec": {
   "display_name": "Python 3",
   "language": "python",
   "name": "python3"
  },
  "language_info": {
   "codemirror_mode": {
    "name": "ipython",
    "version": 3
   },
   "file_extension": ".py",
   "mimetype": "text/x-python",
   "name": "python",
   "nbconvert_exporter": "python",
   "pygments_lexer": "ipython3",
   "version": "3.7.0"
  }
 },
 "nbformat": 4,
 "nbformat_minor": 2
}
